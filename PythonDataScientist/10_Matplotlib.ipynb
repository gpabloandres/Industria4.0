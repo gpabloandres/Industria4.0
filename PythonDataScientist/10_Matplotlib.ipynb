{
  "nbformat": 4,
  "nbformat_minor": 0,
  "metadata": {
    "colab": {
      "provenance": []
    },
    "kernelspec": {
      "name": "python3",
      "display_name": "Python 3"
    },
    "language_info": {
      "name": "python"
    }
  },
  "cells": [
    {
      "cell_type": "code",
      "execution_count": null,
      "metadata": {
        "id": "zKDB70zfNxgV"
      },
      "outputs": [],
      "source": [
        "import matplotlib.pyplot as plt"
      ]
    },
    {
      "cell_type": "code",
      "source": [
        "valores = [5,4,3,2,1,0,2,4,4,5]\n",
        "valores2 = [1,1,1,1,1,1,1,1,1,1]"
      ],
      "metadata": {
        "id": "9IBOdBJkvuQB"
      },
      "execution_count": null,
      "outputs": []
    },
    {
      "cell_type": "code",
      "source": [
        "plt.plot(valores,label=\"plot1\")\n",
        "plt.plot(valores2, label=\"plot2\")\n",
        "plt.legend()\n",
        "plt.style.use(\"ggplot\")\n",
        "plt.title(\"Grafico\")"
      ],
      "metadata": {
        "id": "rt2vntVTwlbx"
      },
      "execution_count": null,
      "outputs": []
    },
    {
      "cell_type": "code",
      "execution_count": null,
      "metadata": {
        "id": "PAN50Rq9NxgU"
      },
      "outputs": [],
      "source": [
        "x = [-5,-4,-3,-2,-1,0,1,2,3,4,5]\n",
        "y = 1\n",
        "fx = [] #lista vacía\n",
        "\n",
        "#por cada elemento en la lista x\n",
        "for elemento in x:\n",
        "\n",
        "    fx.append(elemento**3 + y)\n",
        "    # Hacemos la cuenta, y lo agregamos a la lista fx\n",
        "\n",
        "print(f\"F(x) = {fx}\")"
      ]
    },
    {
      "cell_type": "code",
      "execution_count": null,
      "metadata": {
        "id": "QC8CjuaINxgW"
      },
      "outputs": [],
      "source": [
        "plt.plot(\n",
        "    x, # primero el eje X\n",
        "    fx, # luego el eje Y\n",
        "    )"
      ]
    },
    {
      "cell_type": "code",
      "source": [
        "def importarArchivo(archivo):\n",
        "  \"\"\"\n",
        "  Importa un archivo txt, con un valor por cada fila\n",
        "  y lo almacena como valor entero en una lista\n",
        "  \"\"\"\n",
        "  with open(archivo) as a:\n",
        "    valores = [int(fila) for fila in open(archivo).readlines()]\n",
        "    a.close()\n",
        "  return valores"
      ],
      "metadata": {
        "id": "rNiwoaTzrvU6"
      },
      "execution_count": null,
      "outputs": []
    },
    {
      "cell_type": "code",
      "source": [
        "sensor = importarArchivo(\"sensor.txt\")"
      ],
      "metadata": {
        "id": "jhmWGex4yc9b"
      },
      "execution_count": null,
      "outputs": []
    },
    {
      "cell_type": "code",
      "source": [
        "plt.plot(sensor)"
      ],
      "metadata": {
        "id": "0h200J6aypw_"
      },
      "execution_count": null,
      "outputs": []
    }
  ]
}